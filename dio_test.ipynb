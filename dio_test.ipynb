{
 "cells": [
  {
   "cell_type": "code",
   "execution_count": 3,
   "source": [
    "import torchaudio\r\n",
    "import pymacres"
   ],
   "outputs": [
    {
     "output_type": "error",
     "ename": "ModuleNotFoundError",
     "evalue": "No module named 'pymacres'",
     "traceback": [
      "\u001b[1;31m---------------------------------------------------------------------------\u001b[0m",
      "\u001b[1;31mModuleNotFoundError\u001b[0m                       Traceback (most recent call last)",
      "\u001b[1;32m<ipython-input-3-3a2e5f883c69>\u001b[0m in \u001b[0;36m<module>\u001b[1;34m\u001b[0m\n\u001b[0;32m      1\u001b[0m \u001b[1;32mimport\u001b[0m \u001b[0mtorchaudio\u001b[0m\u001b[1;33m\u001b[0m\u001b[1;33m\u001b[0m\u001b[0m\n\u001b[1;32m----> 2\u001b[1;33m \u001b[1;32mimport\u001b[0m \u001b[0mpymacres\u001b[0m\u001b[1;33m\u001b[0m\u001b[1;33m\u001b[0m\u001b[0m\n\u001b[0m",
      "\u001b[1;31mModuleNotFoundError\u001b[0m: No module named 'pymacres'"
     ]
    }
   ],
   "metadata": {}
  },
  {
   "cell_type": "code",
   "execution_count": null,
   "source": [
    "human_0, human_0_sample_rate = torchaudio.load(\"human_0.mp3\", normalize=True)\r\n",
    "human_0_info = torchaudio.info((\"human_0.mp3\"))\r\n",
    "frame_period = 2\r\n",
    "num_frames = int((human_0_info.num_frames / sample_rate * 1000 / frame_period)) + 1\r\n",
    "time_axis = torch.arange(0, num_frames) * frame_period / 1000"
   ],
   "outputs": [],
   "metadata": {}
  },
  {
   "cell_type": "code",
   "execution_count": null,
   "source": [
    "f0 = pymacres.dio(\r\n",
    "    human_0[0].tolist(),\r\n",
    "    int(human_0_info.num_frames),\r\n",
    "    int(human_0_info.sample_rate),\r\n",
    "    float(frame_period),\r\n",
    "    time_axis.tolist())"
   ],
   "outputs": [],
   "metadata": {}
  }
 ],
 "metadata": {
  "orig_nbformat": 4,
  "language_info": {
   "name": "python",
   "version": "3.6.12",
   "mimetype": "text/x-python",
   "codemirror_mode": {
    "name": "ipython",
    "version": 3
   },
   "pygments_lexer": "ipython3",
   "nbconvert_exporter": "python",
   "file_extension": ".py"
  },
  "kernelspec": {
   "name": "python3",
   "display_name": "Python 3.6.12 64-bit ('py36': conda)"
  },
  "interpreter": {
   "hash": "1fb4e77959809b5e2ffc37c652a246a3f55aba65c120a6fbe561b1817195a1c4"
  }
 },
 "nbformat": 4,
 "nbformat_minor": 2
}